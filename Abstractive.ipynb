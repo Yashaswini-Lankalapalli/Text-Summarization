{
  "nbformat": 4,
  "nbformat_minor": 0,
  "metadata": {
    "colab": {
      "provenance": [],
      "authorship_tag": "ABX9TyM0eyt/OvdQxZTTblMrnbNO",
      "include_colab_link": true
    },
    "kernelspec": {
      "name": "python3",
      "display_name": "Python 3"
    },
    "language_info": {
      "name": "python"
    }
  },
  "cells": [
    {
      "cell_type": "markdown",
      "metadata": {
        "id": "view-in-github",
        "colab_type": "text"
      },
      "source": [
        "<a href=\"https://colab.research.google.com/github/Yashaswini-Lankalapalli/Text-Summarization/blob/main/Abstractive.ipynb\" target=\"_parent\"><img src=\"https://colab.research.google.com/assets/colab-badge.svg\" alt=\"Open In Colab\"/></a>"
      ]
    },
    {
      "cell_type": "code",
      "execution_count": null,
      "metadata": {
        "id": "IeaxMPLYymux"
      },
      "outputs": [],
      "source": [
        "from transformers import pipeline"
      ]
    },
    {
      "cell_type": "code",
      "source": [
        "summarizer=pipeline(\"summarization\",model=\"t5-base\",tokenizer=\"t5-base\",framework=\"pt\")"
      ],
      "metadata": {
        "id": "SyXWv6KrlcwH"
      },
      "execution_count": null,
      "outputs": []
    },
    {
      "cell_type": "code",
      "source": [
        "text='''In the bustling heart of the city, a small coffee shop stood as an oasis of calm amidst the chaos. The aroma of freshly brewed coffee wafted through the air, drawing in passersby with the promise of warmth and comfort. Inside, the walls were adorned with local artwork, from vibrant paintings to intricate sketches, each piece telling its own unique story. Soft jazz music played in the background, creating a cozy and inviting atmosphere that made it easy for patrons to lose track of time. The shop was a haven for a diverse crowd—students with their laptops, professionals in need of a break, and artists seeking inspiration. Regular patrons mingled with newcomers, sharing stories and laughter over steaming cups of espresso. They formed a community within the café's walls, finding common ground in their love for good coffee and friendly conversation. The barista, with a friendly smile and an expert touch, crafted each drink with care, from the perfect cappuccino to the most indulgent mocha, making every visit a special experience. In one corner, a group of friends gathered weekly, their animated discussions filling the room with energy. In another, a solitary writer worked diligently on their latest novel, fueled by endless cups of black coffee. The large windows offered a perfect view of the busy street outside, creating a delightful contrast between the tranquility inside and the hustle and bustle outside. The café’s cozy nooks and comfortable seating invited people to stay a little longer, perhaps to read a book, catch up on work, or simply relax and watch the world go by.'''"
      ],
      "metadata": {
        "id": "VRxqZ14Bl5ug"
      },
      "execution_count": null,
      "outputs": []
    },
    {
      "cell_type": "code",
      "source": [
        "summary_dict=summarizer(text,min_length=50,max_length=80,do_sample=False)"
      ],
      "metadata": {
        "id": "sMUEw7RZmpIT"
      },
      "execution_count": null,
      "outputs": []
    },
    {
      "cell_type": "code",
      "source": [
        "print(summary_dict[0]['summary_text'])"
      ],
      "metadata": {
        "colab": {
          "base_uri": "https://localhost:8080/"
        },
        "id": "9_VaspqImsAn",
        "outputId": "f3804051-176d-46bd-f8a2-f80e32383f55"
      },
      "execution_count": null,
      "outputs": [
        {
          "output_type": "stream",
          "name": "stdout",
          "text": [
            "a fairy godmother turned a pumpkin into a carriage and mice into horses . the prince searched the kingdom for the owner of the glass slipper . when Cinderella tried on the slipper, it fit perfectly . despite her hardships, she remained hopeful .\n"
          ]
        }
      ]
    },
    {
      "cell_type": "code",
      "source": [],
      "metadata": {
        "id": "3BieX6ezvQpP"
      },
      "execution_count": null,
      "outputs": []
    }
  ]
}