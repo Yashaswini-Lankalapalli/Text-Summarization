{
  "nbformat": 4,
  "nbformat_minor": 0,
  "metadata": {
    "colab": {
      "provenance": [],
      "authorship_tag": "ABX9TyM6epjeLr7KCgVslLP2rRmL",
      "include_colab_link": true
    },
    "kernelspec": {
      "name": "python3",
      "display_name": "Python 3"
    },
    "language_info": {
      "name": "python"
    }
  },
  "cells": [
    {
      "cell_type": "markdown",
      "metadata": {
        "id": "view-in-github",
        "colab_type": "text"
      },
      "source": [
        "<a href=\"https://colab.research.google.com/github/Yashaswini-Lankalapalli/Text-Summarization/blob/main/Extractive.ipynb\" target=\"_parent\"><img src=\"https://colab.research.google.com/assets/colab-badge.svg\" alt=\"Open In Colab\"/></a>"
      ]
    },
    {
      "cell_type": "code",
      "execution_count": 1,
      "metadata": {
        "id": "8FWBCnM-jl1W"
      },
      "outputs": [],
      "source": [
        "text='''In the bustling heart of the city, a small coffee shop stood as an oasis of calm amidst the chaos. The aroma of freshly brewed coffee wafted through the air, drawing in passersby with the promise of warmth and comfort. Inside, the walls were adorned with local artwork, from vibrant paintings to intricate sketches, each piece telling its own unique story. Soft jazz music played in the background, creating a cozy and inviting atmosphere that made it easy for patrons to lose track of time. The shop was a haven for a diverse crowd—students with their laptops, professionals in need of a break, and artists seeking inspiration. Regular patrons mingled with newcomers, sharing stories and laughter over steaming cups of espresso. They formed a community within the café's walls, finding common ground in their love for good coffee and friendly conversation. The barista, with a friendly smile and an expert touch, crafted each drink with care, from the perfect cappuccino to the most indulgent mocha, making every visit a special experience. In one corner, a group of friends gathered weekly, their animated discussions filling the room with energy. In another, a solitary writer worked diligently on their latest novel, fueled by endless cups of black coffee. The large windows offered a perfect view of the busy street outside, creating a delightful contrast between the tranquility inside and the hustle and bustle outside. The café’s cozy nooks and comfortable seating invited people to stay a little longer, perhaps to read a book, catch up on work, or simply relax and watch the world go by.'''"
      ]
    },
    {
      "cell_type": "code",
      "source": [
        "import spacy\n",
        "from spacy.lang.en.stop_words import STOP_WORDS\n",
        "from string import punctuation"
      ],
      "metadata": {
        "id": "O2caSqEYjvLt"
      },
      "execution_count": 2,
      "outputs": []
    },
    {
      "cell_type": "code",
      "source": [
        "nlp=spacy.load('en_core_web_sm')"
      ],
      "metadata": {
        "id": "5rIZmVfMj0bJ"
      },
      "execution_count": 3,
      "outputs": []
    },
    {
      "cell_type": "code",
      "source": [
        "doc=nlp(text)"
      ],
      "metadata": {
        "id": "U_jaXwGkkCXm"
      },
      "execution_count": 4,
      "outputs": []
    },
    {
      "cell_type": "code",
      "source": [
        "#TOKENIZATION\n",
        "tokens=[token.text.lower() for token in doc\n",
        "        if not token.is_stop and\n",
        "         not token.is_punct and\n",
        "        token.text !='\\n']"
      ],
      "metadata": {
        "id": "LZOWMyh-kIwi"
      },
      "execution_count": 13,
      "outputs": []
    },
    {
      "cell_type": "code",
      "source": [
        "#USING COUNTER CLASS FROM COLLECTIONS MODULE WE CALCULATE THE FREQUENCY OF EACH TOKEN\n",
        "from collections import Counter\n",
        "word_freq=Counter(tokens)"
      ],
      "metadata": {
        "id": "zavqZZu2kLvJ"
      },
      "execution_count": 6,
      "outputs": []
    },
    {
      "cell_type": "code",
      "source": [
        "#NORMALIZING THE FREQUENCY OF EACH WORD(value lies betwen 0 and 1)\n",
        "max_freq=max(word_freq.values())\n",
        "for word in word_freq.keys():\n",
        "  word_freq[word]=word_freq[word]/max_freq"
      ],
      "metadata": {
        "id": "_rzcxIZmlKH0"
      },
      "execution_count": 7,
      "outputs": []
    },
    {
      "cell_type": "code",
      "source": [
        "sent_token=[sent.text for sent in doc.sents]"
      ],
      "metadata": {
        "id": "6n3n2SutpIL7"
      },
      "execution_count": 8,
      "outputs": []
    },
    {
      "cell_type": "code",
      "source": [
        "#CALCULATING SCORE\n",
        "sent_score={}\n",
        "for sent in sent_token:\n",
        "  for word in sent.split():\n",
        "    if word.lower() in word_freq.keys():\n",
        "      if sent not in sent_score.keys():\n",
        "        sent_score[sent]=word_freq[word]\n",
        "      else:\n",
        "        sent_score[sent]+=word_freq[word]"
      ],
      "metadata": {
        "id": "DuGCB7wap-fp"
      },
      "execution_count": 9,
      "outputs": []
    },
    {
      "cell_type": "code",
      "source": [
        "import pandas as pd\n",
        "df=pd.DataFrame(list(sent_score.items()),columns=['sentence','score'])"
      ],
      "metadata": {
        "collapsed": true,
        "id": "Z3SXA3xXq9is"
      },
      "execution_count": 10,
      "outputs": []
    },
    {
      "cell_type": "code",
      "source": [
        "from heapq import nlargest\n",
        "num_score=5\n",
        "summary=nlargest(num_score,sent_score,key=sent_score.get)\n",
        "print(''.join(summary))"
      ],
      "metadata": {
        "colab": {
          "base_uri": "https://localhost:8080/"
        },
        "id": "jgRH60EAq9Wz",
        "outputId": "68b65048-c861-4dec-a45b-ba3491c7f0f2"
      },
      "execution_count": 11,
      "outputs": [
        {
          "output_type": "stream",
          "name": "stdout",
          "text": [
            "The large windows offered a perfect view of the busy street outside, creating a delightful contrast between the tranquility inside and the hustle and bustle outside.The café’s cozy nooks and comfortable seating invited people to stay a little longer, perhaps to read a book, catch up on work, or simply relax and watch the world go by.Soft jazz music played in the background, creating a cozy and inviting atmosphere that made it easy for patrons to lose track of time.In the bustling heart of the city, a small coffee shop stood as an oasis of calm amidst the chaos.They formed a community within the café's walls, finding common ground in their love for good coffee and friendly conversation.\n"
          ]
        }
      ]
    },
    {
      "cell_type": "code",
      "source": [],
      "metadata": {
        "id": "FtcQhMnFq8zu"
      },
      "execution_count": 12,
      "outputs": []
    }
  ]
}